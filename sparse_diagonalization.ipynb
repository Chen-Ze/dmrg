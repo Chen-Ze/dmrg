{
    "cells": [
        {
            "cell_type": "code",
            "execution_count": 2,
            "source": [
                "from scipy import sparse\n",
                "from scipy.sparse import linalg\n",
                "import functools"
            ],
            "outputs": [],
            "metadata": {}
        },
        {
            "cell_type": "markdown",
            "source": [
                "$$\\sigma_z = \\begin{pmatrix} 1 & 0 \\\\ 0 & -1\\end{pmatrix}.$$"
            ],
            "metadata": {}
        },
        {
            "cell_type": "code",
            "execution_count": 3,
            "source": [
                "sigma_z = sparse.bsr_matrix([[1, 0], [0, -1]])"
            ],
            "outputs": [],
            "metadata": {}
        },
        {
            "cell_type": "markdown",
            "source": [
                "`sigma_product` returns the direct product of $n$ $\\sigma_z$'s such that $2^n = d$, i.e.\n",
                "$$\\sigma_z \\otimes \\sigma_z \\otimes \\cdots \\otimes \\sigma_z = \\begin{pmatrix} \\ddots \\end{pmatrix}_{d\\times d}.$$"
            ],
            "metadata": {}
        },
        {
            "cell_type": "code",
            "execution_count": 4,
            "source": [
                "def sigma_product(dimension):\n",
                "    dimension = int(dimension)\n",
                "    return (\n",
                "        sparse.bsr_matrix([[1]])\n",
                "    ) if dimension == 1 else (\n",
                "        sparse.kron(sigma_z, sigma_product(dimension / 2))\n",
                "    )"
            ],
            "outputs": [],
            "metadata": {}
        },
        {
            "cell_type": "markdown",
            "source": [
                "Parameters: $t$ and $U$ in the Hamiltonian, as well as the length of the chain $L$. Our Hamiltonian is given by\n",
                "$$H = -t \\sum_\\sigma \\sum_{i=0}^{L-2} c^\\dagger_{i,\\sigma} c_{i+1,\\sigma} + U \\sum_{i=0}^{L-1} c^\\dagger_{i,\\uparrow}c_{i,\\uparrow}c^\\dagger_{i,\\downarrow}c_{i,\\downarrow}.$$"
            ],
            "metadata": {}
        },
        {
            "cell_type": "code",
            "execution_count": 5,
            "source": [
                "t = 0.5 # hopping t\n",
                "U = 1.0 # on-site U\n",
                "L = 4   # number of sites"
            ],
            "outputs": [],
            "metadata": {}
        },
        {
            "cell_type": "markdown",
            "source": [
                "The creation and operator of each spin on a single site is given by\n",
                "$$\\begin{gather*}\n",
                "c_\\uparrow = \\begin{pmatrix}0 & 0 \\\\ 1 & 0\\end{pmatrix} \\otimes \\begin{pmatrix}1 & 0 \\\\ 0 & 1\\end{pmatrix},\\\\\n",
                "c_\\downarrow = \\begin{pmatrix}1 & 0 \\\\ 0 & -1\\end{pmatrix} \\otimes \\begin{pmatrix}0 & 0 \\\\ 1 & 0\\end{pmatrix}.\n",
                "\\end{gather*}$$"
            ],
            "metadata": {}
        },
        {
            "cell_type": "code",
            "execution_count": 6,
            "source": [
                "d_spin          = 2 # number of states on each site of a fixed spin: occupied / not occupied\n",
                "d_site          = d_spin * d_spin # number of states on each site\n",
                "creation        = sparse.bsr_matrix([[0, 0], [1, 0]], dtype='d') # occupied as [0, 1]' and not occupied as [1, 0]'\n",
                "up_creation     = sparse.kron(creation, sparse.eye(d_spin))\n",
                "down_creation   = sparse.kron(sigma_product(d_spin), creation) # np.kron(util.sigma_product(model_d), creation)"
            ],
            "outputs": [],
            "metadata": {}
        },
        {
            "cell_type": "markdown",
            "source": [
                "Now we calculate the creation operators of each spin in the Hilbert space of the whole system, i.e. matrices of size $4^L \\times 4^L$. They are given by\n",
                "$$\\begin{gather*}\n",
                "c_{i,\\uparrow} = \\underbrace{\\sigma_z \\otimes \\sigma_z \\otimes \\cdot \\otimes \\sigma_z}_{2i} \\otimes c_{\\uparrow} \\otimes \\underbrace{\\begin{pmatrix}0 & 0 \\\\ 1 & 0\\end{pmatrix} \\otimes \\begin{pmatrix}0 & 0 \\\\ 1 & 0\\end{pmatrix} \\otimes \\cdots \\otimes \\begin{pmatrix}0 & 0 \\\\ 1 & 0\\end{pmatrix}}_{2(L - 1 - i)}, \\\\\n",
                "c_{i,\\downarrow} = \\underbrace{\\sigma_z \\otimes \\sigma_z \\otimes \\cdot \\otimes \\sigma_z}_{2i} \\otimes c_{\\downarrow} \\otimes \\underbrace{\\begin{pmatrix}0 & 0 \\\\ 1 & 0\\end{pmatrix} \\otimes \\begin{pmatrix}0 & 0 \\\\ 1 & 0\\end{pmatrix} \\otimes \\cdots \\otimes \\begin{pmatrix}0 & 0 \\\\ 1 & 0\\end{pmatrix}}_{2(L - 1 - i)}.\n",
                "\\end{gather*}$$"
            ],
            "metadata": {}
        },
        {
            "cell_type": "code",
            "execution_count": 7,
            "source": [
                "up_creation_operators, down_creation_operators = ([\n",
                "        functools.reduce(sparse.kron,\n",
                "            (sigma_product(d_site ** i), creation, sparse.eye(d_site ** (L - 1 - i)))\n",
                "        )\n",
                "        for i in range(L)\n",
                "    ] for creation in (up_creation, down_creation)\n",
                ")"
            ],
            "outputs": [],
            "metadata": {}
        },
        {
            "cell_type": "markdown",
            "source": [
                "Now we calculate the matrix representations of the hopping terms, i.e.\n",
                "$$-t \\begin{pmatrix} c^\\dagger_{0,\\uparrow} c_{1,\\uparrow} + \\mathrm{h.c.} & c^\\dagger_{1,\\uparrow} c_{2,\\uparrow} + \\mathrm{h.c.} & \\cdots & c^\\dagger_{L-2,\\uparrow} c_{L-1,\\uparrow} + \\mathrm{h.c.} \\end{pmatrix}$$\n",
                "and\n",
                "$$-t \\begin{pmatrix} c^\\dagger_{0,\\downarrow} c_{1,\\downarrow} + \\mathrm{h.c.} & c^\\dagger_{1,\\downarrow} c_{2,\\downarrow} + \\mathrm{h.c.} &  \\cdots & c^\\dagger_{L-2,\\downarrow} c_{L-1,\\downarrow} + \\mathrm{h.c.} \\end{pmatrix}.$$"
            ],
            "metadata": {}
        },
        {
            "cell_type": "code",
            "execution_count": 8,
            "source": [
                "up_hoppings, down_hoppings = (map(\n",
                "        lambda creation_0, creation_1: (\n",
                "            -t * ((creation_0 * creation_1.H) + (creation_0 * creation_1.H).H)\n",
                "        ),\n",
                "        operators[:-1], operators[1:]\n",
                "    ) for operators in (up_creation_operators, down_creation_operators)\n",
                ")"
            ],
            "outputs": [],
            "metadata": {}
        },
        {
            "cell_type": "markdown",
            "source": [
                "Then we calculate the matrix representations of the on-site terms, i.e.\n",
                "$$U \\begin{pmatrix} c^\\dagger_{0,\\uparrow} c_{0,\\uparrow} c^\\dagger_{0,\\downarrow} c_{0,\\downarrow} & c^\\dagger_{1,\\uparrow} c_{1,\\uparrow} c^\\dagger_{1,\\downarrow} c_{1,\\downarrow} & \\cdots & c^\\dagger_{L-1,\\uparrow} c_{L-1,\\uparrow} c^\\dagger_{L-1,\\downarrow} c_{L-1,\\downarrow} \\end{pmatrix}.$$"
            ],
            "metadata": {}
        },
        {
            "cell_type": "code",
            "execution_count": 9,
            "source": [
                "on_sites = map(\n",
                "    lambda creation_up, creation_down: (\n",
                "        U * creation_up * creation_up.H * creation_down * creation_down.H\n",
                "    ),\n",
                "    up_creation_operators, down_creation_operators\n",
                ")"
            ],
            "outputs": [],
            "metadata": {}
        },
        {
            "cell_type": "markdown",
            "source": [
                "Now we sum the terms above to get the matrix representation of the Hamiltonian."
            ],
            "metadata": {}
        },
        {
            "cell_type": "code",
            "execution_count": 10,
            "source": [
                "H = sum(up_hoppings) + sum(down_hoppings) + sum(on_sites)\n",
                "\n",
                "assert H.shape == (d_site ** L, d_site ** L)"
            ],
            "outputs": [],
            "metadata": {}
        },
        {
            "cell_type": "markdown",
            "source": [
                "Finally we diagonalize the Hamiltonian and obtain the minimal eigenvalue, which is then devided by $L$ to get the energy per site."
            ],
            "metadata": {}
        },
        {
            "cell_type": "code",
            "execution_count": 13,
            "source": [
                "min_E = linalg.eigsh(H, k=1, which=\"SA\")[0][0]\n",
                "\n",
                "print(f\"Energy per site: {min_E / L}.\")"
            ],
            "outputs": [
                {
                    "output_type": "stream",
                    "name": "stdout",
                    "text": [
                        "Energy per site: -0.38369191991780155.\n"
                    ]
                }
            ],
            "metadata": {}
        }
    ],
    "metadata": {
        "orig_nbformat": 4,
        "language_info": {
            "name": "python",
            "version": "3.8.8",
            "mimetype": "text/x-python",
            "codemirror_mode": {
                "name": "ipython",
                "version": 3
            },
            "pygments_lexer": "ipython3",
            "nbconvert_exporter": "python",
            "file_extension": ".py"
        },
        "kernelspec": {
            "name": "python3",
            "display_name": "Python 3.8.8 64-bit ('base': conda)"
        },
        "interpreter": {
            "hash": "d811378f1bc00a8aecdac2de1b81bd9a23b5be8e5641ffbb4afadbaf02d15d7b"
        }
    },
    "nbformat": 4,
    "nbformat_minor": 2
}